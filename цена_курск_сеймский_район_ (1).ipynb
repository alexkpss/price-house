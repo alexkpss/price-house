{
  "cells": [
    {
      "cell_type": "code",
      "execution_count": 1,
      "metadata": {
        "collapsed": true,
        "id": "sxLcNFkSrRT0"
      },
      "outputs": [],
      "source": [
        "import numpy as np\n",
        "import matplotlib.pyplot as plt\n",
        "np.set_printoptions(suppress=True) "
      ]
    },
    {
      "cell_type": "code",
      "execution_count": 49,
      "metadata": {
        "colab": {
          "base_uri": "https://localhost:8080/"
        },
        "id": "dmUgHj4SrRT2",
        "outputId": "8a800ea6-4b86-4c7c-af3f-80c28e743252"
      },
      "outputs": [
        {
          "output_type": "execute_result",
          "data": {
            "text/plain": [
              "array([[  41.,    2., 2650.],\n",
              "       [  59.,    3., 3000.],\n",
              "       [  43.,    2., 2770.],\n",
              "       [  60.,    2., 4990.],\n",
              "       [  62.,    3., 3500.]])"
            ]
          },
          "metadata": {},
          "execution_count": 49
        }
      ],
      "source": [
        "data = np.loadtxt(\"/content/цена таб.txt\",dtype=np.float64,delimiter=\",\")\n",
        "data[:5,::] "
      ]
    },
    {
      "cell_type": "code",
      "execution_count": 50,
      "metadata": {
        "collapsed": true,
        "id": "SS1vRgb_rRT3"
      },
      "outputs": [],
      "source": [
        "\n",
        "X = data[::,0:2]\n",
        "Y = data[::,-1:]"
      ]
    },
    {
      "cell_type": "code",
      "execution_count": 51,
      "metadata": {
        "colab": {
          "base_uri": "https://localhost:8080/",
          "height": 382
        },
        "id": "2gpE4V_frRT4",
        "outputId": "87de53c5-9bbc-4aa3-80aa-22dc9467240b"
      },
      "outputs": [
        {
          "output_type": "display_data",
          "data": {
            "text/plain": [
              "<Figure size 1500x400 with 2 Axes>"
            ],
            "image/png": "[encoded data removed]"
          },
          "metadata": {
            "needs_background": "light"
          }
        }
      ],
      "source": [
        "plt.figure(figsize = (15,4),dpi=100)\n",
        "plt.subplot(121)\n",
        "plt.scatter(X[::,0:1],Y)\n",
        "plt.xlabel(\"Квадратура м2 (X1)\")\n",
        "plt.ylabel(\"Цена тыс.руб(Y)\")\n",
        "plt.subplot(122)\n",
        "plt.scatter(X[::,-1:],Y)\n",
        "plt.xlabel(\"количество комнат (X2)\")\n",
        "plt.ylabel(\"цена тыс.руб (Y)\")\n",
        "plt.show()\n"
      ]
    },
    {
      "cell_type": "code",
      "execution_count": 52,
      "metadata": {
        "colab": {
          "base_uri": "https://localhost:8080/"
        },
        "id": "Cz9lfPAmrRT5",
        "outputId": "f877f7f0-e5a2-4f68-8bff-ed8d9c14a624"
      },
      "outputs": [
        {
          "output_type": "stream",
          "name": "stdout",
          "text": [
            "X_bias = \n",
            " [[ 1. 41.  2.]\n",
            " [ 1. 59.  3.]\n",
            " [ 1. 43.  2.]\n",
            " [ 1. 60.  2.]\n",
            " [ 1. 62.  3.]]\n",
            "Y = \n",
            " [[2650.]\n",
            " [3000.]\n",
            " [2770.]\n",
            " [4990.]\n",
            " [3500.]]\n"
          ]
        }
      ],
      "source": [
        "Theta = np.random.rand(1,3)\n",
        "m,n = X.shape\n",
        "X_bias = np.ones((m,n+1))\n",
        "X_bias[::,1:] = X\n",
        "print (\"X_bias = \\n\",X_bias[0:5,:])\n",
        "print (\"Y = \\n\",Y[0:5,::])"
      ]
    },
    {
      "cell_type": "code",
      "execution_count": 53,
      "metadata": {
        "id": "ES2tNa4ErRT6",
        "outputId": "540edddd-f18b-4654-923f-3ffbfdc0708b",
        "colab": {
          "base_uri": "https://localhost:8080/"
        }
      },
      "outputs": [
        {
          "output_type": "execute_result",
          "data": {
            "text/plain": [
              "array([[ 1.        , -0.42792795, -0.02567481],\n",
              "       [ 1.        ,  1.024221  ,  1.15536637],\n",
              "       [ 1.        , -0.26657807, -0.02567481],\n",
              "       [ 1.        ,  1.10489594, -0.02567481],\n",
              "       [ 1.        ,  1.26624582,  1.15536637]])"
            ]
          },
          "metadata": {},
          "execution_count": 53
        }
      ],
      "source": [
        "\n",
        "mean_size = np.mean(X_bias[::,1:2])\n",
        "mean_bedroom = np.mean(X_bias[::,2:])\n",
        "size_std = np.std(X_bias[::,1:2])\n",
        "bedroom_std = np.std(X_bias[::,2:])\n",
        "X_bias[::,1:2] = (X_bias[::,1:2] - mean_size)/ (size_std) \n",
        "X_bias[::,2:] = (X_bias[::,2:] - mean_bedroom)/ (bedroom_std)\n",
        "X_bias[0:5,::]"
      ]
    },
    {
      "cell_type": "code",
      "execution_count": 54,
      "metadata": {
        "collapsed": true,
        "id": "gKcsu-vlrRT7"
      },
      "outputs": [],
      "source": [
        "def cost(X_bias,Y,Theta):\n",
        "    np.seterr(over='raise')\n",
        "    m,n = X.shape\n",
        "    hypothesis = X_bias.dot(Theta.transpose())\n",
        "    return (1/(2.0*m))*((np.square(hypothesis-Y)).sum(axis=0))"
      ]
    },
    {
      "cell_type": "code",
      "execution_count": 55,
      "metadata": {
        "collapsed": true,
        "id": "Hnki6me8rRT7"
      },
      "outputs": [],
      "source": [
        "def gradientDescent(X_bias,Y,Theta,iterations,alpha):\n",
        "    count = 1\n",
        "    cost_log = np.array([])\n",
        "    while(count <= iterations):\n",
        "        hypothesis = X_bias.dot(Theta.transpose())\n",
        "        temp0 = Theta[0,0] - alpha*(1.0/m)*((hypothesis-Y)*(X_bias[::,0:1])).sum(axis=0)\n",
        "        temp1 = Theta[0,1] - alpha*(1.0/m)*((hypothesis-Y)*(X_bias[::,1:2])).sum(axis=0)\n",
        "        temp2 = Theta[0,2] - alpha*(1.0/m)*((hypothesis-Y)*(X_bias[::,-1:])).sum(axis=0)\n",
        "        Theta[0,0] = temp0\n",
        "        Theta[0,1] = temp1\n",
        "        Theta[0,2] = temp2\n",
        "        cost_log = np.append(cost_log,cost(X_bias,Y,Theta))\n",
        "        count = count + 1\n",
        "    plt.plot(np.linspace(1,iterations,iterations,endpoint=True),cost_log)\n",
        "    plt.title(\"Интерация vs Цена \")\n",
        "    plt.xlabel(\"кол=во интераций\")\n",
        "    plt.ylabel(\"цена Theta\")\n",
        "    plt.show()\n",
        "    return Theta"
      ]
    },
    {
      "cell_type": "code",
      "execution_count": 56,
      "metadata": {
        "id": "o2tFCqmjrRT8",
        "outputId": "f3652ad9-859c-4a33-a10d-5f40df6d652a",
        "colab": {
          "base_uri": "https://localhost:8080/",
          "height": 312
        }
      },
      "outputs": [
        {
          "output_type": "display_data",
          "data": {
            "text/plain": [
              "<Figure size 432x288 with 1 Axes>"
            ],
            "image/png": "[encoded data removed]"
          },
          "metadata": {
            "needs_background": "light"
          }
        },
        {
          "output_type": "stream",
          "name": "stdout",
          "text": [
            "[[3061.          660.53976445  -26.69228209]]\n"
          ]
        }
      ],
      "source": [
        "alpha = 0.3\n",
        "iterations = 100\n",
        "Theta = gradientDescent(X_bias,Y,Theta,iterations,alpha)\n",
        "print (Theta)"
      ]
    },
    {
      "cell_type": "code",
      "execution_count": 57,
      "metadata": {
        "id": "EhffFZeorRT9",
        "outputId": "c317da65-7871-4fdf-88c1-2dc4ddbfa8d1",
        "colab": {
          "base_uri": "https://localhost:8080/"
        }
      },
      "outputs": [
        {
          "output_type": "stream",
          "name": "stdout",
          "text": [
            "Прогнозируемая цена 1 комнатной квартиры 32 кв.м в сеймском районе курска тыс.руб  [2330.94551248]\n"
          ]
        }
      ],
      "source": [
        "X_predict = np.array([1.0,32.0,1]) \n",
        "X_predict[1] = (X_predict[1] - mean_size)/ (size_std) \n",
        "X_predict[2] = (X_predict[2]- mean_bedroom)/ (bedroom_std)\n",
        "hypothesis = X_predict.dot(Theta.transpose())\n",
        "print (\"Прогнозируемая цена 1 комнатной квартиры 32 кв.м в сеймском районе курска тыс.руб \",hypothesis)\n"
      ]
    }
  ],
  "metadata": {
    "kernelspec": {
      "display_name": "Python 2",
      "language": "python",
      "name": "python2"
    },
    "language_info": {
      "codemirror_mode": {
        "name": "ipython",
        "version": 2
      },
      "file_extension": ".py",
      "mimetype": "text/x-python",
      "name": "python",
      "nbconvert_exporter": "python",
      "pygments_lexer": "ipython2",
      "version": "2.7.13"
    },
    "colab": {
      "provenance": []
    }
  },
  "nbformat": 4,
  "nbformat_minor": 0
}